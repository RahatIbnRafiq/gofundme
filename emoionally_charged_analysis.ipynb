{
 "cells": [
  {
   "cell_type": "code",
   "execution_count": 7,
   "metadata": {},
   "outputs": [
    {
     "data": {
      "text/plain": [
       "Index(['_id', 'URL', 'Category', 'image', 'GoalAmount', 'Organizer',\n",
       "       'Description', 'Updates', 'Comments', 'Created', 'Data_created_on',\n",
       "       'success', 'Title', 'RaisedAmount', 'DominantEmotion', 'EmotionScore',\n",
       "       'EmotionallyCharged'],\n",
       "      dtype='object')"
      ]
     },
     "execution_count": 7,
     "metadata": {},
     "output_type": "execute_result"
    }
   ],
   "source": [
    "import pandas as pd\n",
    "\n",
    "json_file_path = \"campaigns_with_emotionally_charged_data.json\"\n",
    "campaigns = pd.read_json(json_file_path)\n",
    "\n",
    "campaigns.columns"
   ]
  },
  {
   "cell_type": "code",
   "execution_count": 9,
   "metadata": {},
   "outputs": [
    {
     "data": {
      "text/html": [
       "<div>\n",
       "<style scoped>\n",
       "    .dataframe tbody tr th:only-of-type {\n",
       "        vertical-align: middle;\n",
       "    }\n",
       "\n",
       "    .dataframe tbody tr th {\n",
       "        vertical-align: top;\n",
       "    }\n",
       "\n",
       "    .dataframe thead th {\n",
       "        text-align: right;\n",
       "    }\n",
       "</style>\n",
       "<table border=\"1\" class=\"dataframe\">\n",
       "  <thead>\n",
       "    <tr style=\"text-align: right;\">\n",
       "      <th></th>\n",
       "      <th>_id</th>\n",
       "      <th>URL</th>\n",
       "      <th>Category</th>\n",
       "      <th>image</th>\n",
       "      <th>GoalAmount</th>\n",
       "      <th>Organizer</th>\n",
       "      <th>Description</th>\n",
       "      <th>Updates</th>\n",
       "      <th>Comments</th>\n",
       "      <th>Created</th>\n",
       "      <th>Data_created_on</th>\n",
       "      <th>success</th>\n",
       "      <th>Title</th>\n",
       "      <th>RaisedAmount</th>\n",
       "      <th>DominantEmotion</th>\n",
       "      <th>EmotionScore</th>\n",
       "      <th>EmotionallyCharged</th>\n",
       "    </tr>\n",
       "  </thead>\n",
       "  <tbody>\n",
       "    <tr>\n",
       "      <th>0</th>\n",
       "      <td>{'$oid': '61e5fb7e1ad7d6fcca9ad8ac'}</td>\n",
       "      <td>https://www.gofundme.com/f/1-dollar-to-1-milli...</td>\n",
       "      <td>Community &amp; Neighbors</td>\n",
       "      <td>background-image: url(\"https://images.gofundme...</td>\n",
       "      <td>1000000</td>\n",
       "      <td>{'Organizer_name': 'Courteney Ridgeway', 'Orga...</td>\n",
       "      <td>Courteney Ridgeway is organizing this fundrais...</td>\n",
       "      <td>[]</td>\n",
       "      <td>[{'donated_amount': 20, 'comment': 'I believe ...</td>\n",
       "      <td>Created November 10, 2021</td>\n",
       "      <td>{'$date': {'$numberLong': '1642444078735'}}</td>\n",
       "      <td>0</td>\n",
       "      <td>1 dollar to 1 million empowerment or experiment..</td>\n",
       "      <td>383.0</td>\n",
       "      <td>sadness</td>\n",
       "      <td>0.925306</td>\n",
       "      <td>True</td>\n",
       "    </tr>\n",
       "    <tr>\n",
       "      <th>1</th>\n",
       "      <td>{'$oid': '61e764a53d2cac2f33b659f6'}</td>\n",
       "      <td>https://www.gofundme.com/f/1-girl-1-calculator</td>\n",
       "      <td>Education &amp; Learning</td>\n",
       "      <td>background-image: url(\"https://images.gofundme...</td>\n",
       "      <td>2600</td>\n",
       "      <td>{'Organizer_name': 'Macy Hill', 'Organizer_des...</td>\n",
       "      <td>Macy Hill is organizing this fundraiser on beh...</td>\n",
       "      <td>[December 5, 2021, by Christine Hill, Benefici...</td>\n",
       "      <td>[{'donated_amount': 400, 'comment': 'As part o...</td>\n",
       "      <td>Created September 6, 2021</td>\n",
       "      <td>{'$date': {'$numberLong': '1642536533312'}}</td>\n",
       "      <td>0</td>\n",
       "      <td>1 Girl 1 Calculator</td>\n",
       "      <td>1680.0</td>\n",
       "      <td>fear</td>\n",
       "      <td>0.866772</td>\n",
       "      <td>True</td>\n",
       "    </tr>\n",
       "    <tr>\n",
       "      <th>2</th>\n",
       "      <td>{'$oid': '61dfa752697f4b953f55a291'}</td>\n",
       "      <td>https://www.gofundme.com/f/1-year-of-event-pro...</td>\n",
       "      <td>Creative Arts, Music &amp; Film</td>\n",
       "      <td>background-image: url(\"https://images.gofundme...</td>\n",
       "      <td>3500</td>\n",
       "      <td>{'Organizer_name': 'Herine Palacios', 'Organiz...</td>\n",
       "      <td>Herine Palacios is organizing this fundraiser....</td>\n",
       "      <td>[]</td>\n",
       "      <td>[{'donated_amount': 5, 'comment': 'lets gooooo...</td>\n",
       "      <td>Created November 4, 2021</td>\n",
       "      <td>{'$date': {'$numberLong': '1642029314823'}}</td>\n",
       "      <td>0</td>\n",
       "      <td>1 year of event programming</td>\n",
       "      <td>1120.0</td>\n",
       "      <td>joy</td>\n",
       "      <td>0.899199</td>\n",
       "      <td>True</td>\n",
       "    </tr>\n",
       "    <tr>\n",
       "      <th>3</th>\n",
       "      <td>{'$oid': '61e206bb1ad7d6fcca9ac17b'}</td>\n",
       "      <td>https://www.gofundme.com/f/10-secrets-to-stopp...</td>\n",
       "      <td>Environment</td>\n",
       "      <td>background-image: url(\"https://images.gofundme...</td>\n",
       "      <td>277477</td>\n",
       "      <td>{'Organizer_name': 'Richard Eckstein', 'Organi...</td>\n",
       "      <td>Richard Eckstein is organizing this fundraiser...</td>\n",
       "      <td>[]</td>\n",
       "      <td>[]</td>\n",
       "      <td>Created September 9, 2021</td>\n",
       "      <td>{'$date': {'$numberLong': '1642184811786'}}</td>\n",
       "      <td>0</td>\n",
       "      <td>Secrets to Stopping Climate Change</td>\n",
       "      <td>10.0</td>\n",
       "      <td>neutral</td>\n",
       "      <td>0.830493</td>\n",
       "      <td>False</td>\n",
       "    </tr>\n",
       "    <tr>\n",
       "      <th>4</th>\n",
       "      <td>{'$oid': '61e637933d2cac2f33b654a2'}</td>\n",
       "      <td>https://www.gofundme.com/f/10-thursday-with-gpbr</td>\n",
       "      <td>Non-Profits &amp; Charities</td>\n",
       "      <td>background-image: url(\"https://images.gofundme...</td>\n",
       "      <td>1000</td>\n",
       "      <td>{'Organizer_name': 'Heather Horlor', 'Organize...</td>\n",
       "      <td>Heather Horlor is organizing this fundraiser t...</td>\n",
       "      <td>[]</td>\n",
       "      <td>[]</td>\n",
       "      <td>Created November 8, 2021</td>\n",
       "      <td>{'$date': {'$numberLong': '1642459459232'}}</td>\n",
       "      <td>0</td>\n",
       "      <td>$10 Thursday with GPBR!</td>\n",
       "      <td>260.0</td>\n",
       "      <td>neutral</td>\n",
       "      <td>0.714147</td>\n",
       "      <td>False</td>\n",
       "    </tr>\n",
       "  </tbody>\n",
       "</table>\n",
       "</div>"
      ],
      "text/plain": [
       "                                    _id  \\\n",
       "0  {'$oid': '61e5fb7e1ad7d6fcca9ad8ac'}   \n",
       "1  {'$oid': '61e764a53d2cac2f33b659f6'}   \n",
       "2  {'$oid': '61dfa752697f4b953f55a291'}   \n",
       "3  {'$oid': '61e206bb1ad7d6fcca9ac17b'}   \n",
       "4  {'$oid': '61e637933d2cac2f33b654a2'}   \n",
       "\n",
       "                                                 URL  \\\n",
       "0  https://www.gofundme.com/f/1-dollar-to-1-milli...   \n",
       "1     https://www.gofundme.com/f/1-girl-1-calculator   \n",
       "2  https://www.gofundme.com/f/1-year-of-event-pro...   \n",
       "3  https://www.gofundme.com/f/10-secrets-to-stopp...   \n",
       "4   https://www.gofundme.com/f/10-thursday-with-gpbr   \n",
       "\n",
       "                      Category  \\\n",
       "0        Community & Neighbors   \n",
       "1         Education & Learning   \n",
       "2  Creative Arts, Music & Film   \n",
       "3                  Environment   \n",
       "4      Non-Profits & Charities   \n",
       "\n",
       "                                               image  GoalAmount  \\\n",
       "0  background-image: url(\"https://images.gofundme...     1000000   \n",
       "1  background-image: url(\"https://images.gofundme...        2600   \n",
       "2  background-image: url(\"https://images.gofundme...        3500   \n",
       "3  background-image: url(\"https://images.gofundme...      277477   \n",
       "4  background-image: url(\"https://images.gofundme...        1000   \n",
       "\n",
       "                                           Organizer  \\\n",
       "0  {'Organizer_name': 'Courteney Ridgeway', 'Orga...   \n",
       "1  {'Organizer_name': 'Macy Hill', 'Organizer_des...   \n",
       "2  {'Organizer_name': 'Herine Palacios', 'Organiz...   \n",
       "3  {'Organizer_name': 'Richard Eckstein', 'Organi...   \n",
       "4  {'Organizer_name': 'Heather Horlor', 'Organize...   \n",
       "\n",
       "                                         Description  \\\n",
       "0  Courteney Ridgeway is organizing this fundrais...   \n",
       "1  Macy Hill is organizing this fundraiser on beh...   \n",
       "2  Herine Palacios is organizing this fundraiser....   \n",
       "3  Richard Eckstein is organizing this fundraiser...   \n",
       "4  Heather Horlor is organizing this fundraiser t...   \n",
       "\n",
       "                                             Updates  \\\n",
       "0                                                 []   \n",
       "1  [December 5, 2021, by Christine Hill, Benefici...   \n",
       "2                                                 []   \n",
       "3                                                 []   \n",
       "4                                                 []   \n",
       "\n",
       "                                            Comments  \\\n",
       "0  [{'donated_amount': 20, 'comment': 'I believe ...   \n",
       "1  [{'donated_amount': 400, 'comment': 'As part o...   \n",
       "2  [{'donated_amount': 5, 'comment': 'lets gooooo...   \n",
       "3                                                 []   \n",
       "4                                                 []   \n",
       "\n",
       "                     Created                              Data_created_on  \\\n",
       "0  Created November 10, 2021  {'$date': {'$numberLong': '1642444078735'}}   \n",
       "1  Created September 6, 2021  {'$date': {'$numberLong': '1642536533312'}}   \n",
       "2   Created November 4, 2021  {'$date': {'$numberLong': '1642029314823'}}   \n",
       "3  Created September 9, 2021  {'$date': {'$numberLong': '1642184811786'}}   \n",
       "4   Created November 8, 2021  {'$date': {'$numberLong': '1642459459232'}}   \n",
       "\n",
       "   success                                              Title  RaisedAmount  \\\n",
       "0        0  1 dollar to 1 million empowerment or experiment..         383.0   \n",
       "1        0                                1 Girl 1 Calculator        1680.0   \n",
       "2        0                        1 year of event programming        1120.0   \n",
       "3        0                 Secrets to Stopping Climate Change          10.0   \n",
       "4        0                            $10 Thursday with GPBR!         260.0   \n",
       "\n",
       "  DominantEmotion  EmotionScore  EmotionallyCharged  \n",
       "0         sadness      0.925306                True  \n",
       "1            fear      0.866772                True  \n",
       "2             joy      0.899199                True  \n",
       "3         neutral      0.830493               False  \n",
       "4         neutral      0.714147               False  "
      ]
     },
     "execution_count": 9,
     "metadata": {},
     "output_type": "execute_result"
    }
   ],
   "source": [
    "campaigns.head()"
   ]
  },
  {
   "cell_type": "code",
   "execution_count": 12,
   "metadata": {},
   "outputs": [
    {
     "name": "stdout",
     "output_type": "stream",
     "text": [
      "\n",
      "Emotionally Charged vs Neutral Counts:\n",
      "False    13977\n",
      "True      8016\n",
      "Name: EmotionallyCharged, dtype: int64\n",
      "\n",
      "Success Rates by Emotionally Charged Category:\n",
      "EmotionallyCharged\n",
      "False    21.843028\n",
      "True     23.216068\n",
      "Name: success, dtype: float64\n"
     ]
    }
   ],
   "source": [
    "import pandas as pd\n",
    "import matplotlib.pyplot as plt\n",
    "import seaborn as sns\n",
    "\n",
    "\n",
    "# Exploratory Data Analysis\n",
    "# print(\"Basic Dataset Info:\")\n",
    "# print(campaigns.info())\n",
    "\n",
    "# print(\"\\nSummary Statistics:\")\n",
    "# print(campaigns.describe())\n",
    "\n",
    "# Count of Emotionally Charged vs Neutral campaigns\n",
    "emotionally_charged_counts = campaigns[\"EmotionallyCharged\"].value_counts()\n",
    "print(\"\\nEmotionally Charged vs Neutral Counts:\")\n",
    "print(emotionally_charged_counts)\n",
    "\n",
    "\n",
    "\n",
    "# # Success rate comparison for Emotionally Charged vs Neutral campaigns\n",
    "success_rates = campaigns.groupby(\"EmotionallyCharged\")[\"success\"].mean() * 100\n",
    "print(\"\\nSuccess Rates by Emotionally Charged Category:\")\n",
    "print(success_rates)"
   ]
  },
  {
   "cell_type": "code",
   "execution_count": 13,
   "metadata": {},
   "outputs": [
    {
     "name": "stderr",
     "output_type": "stream",
     "text": [
      "/var/folders/82/w5q677wj6p74y06sysl9y6c40000gn/T/ipykernel_68492/1208689289.py:3: FutureWarning: \n",
      "\n",
      "Passing `palette` without assigning `hue` is deprecated and will be removed in v0.14.0. Assign the `x` variable to `hue` and set `legend=False` for the same effect.\n",
      "\n",
      "  sns.barplot(x=success_rates.index, y=success_rates.values, palette=\"coolwarm\")\n"
     ]
    },
    {
     "data": {
      "image/png": "[encoded data removed]",
      "text/plain": [
       "<Figure size 600x400 with 1 Axes>"
      ]
     },
     "metadata": {},
     "output_type": "display_data"
    }
   ],
   "source": [
    "# Visualizing success rates\n",
    "plt.figure(figsize=(6, 4))\n",
    "sns.barplot(x=success_rates.index, y=success_rates.values, palette=\"coolwarm\")\n",
    "plt.xlabel(\"Emotionally Charged\")\n",
    "plt.ylabel(\"Success Rate (%)\")\n",
    "plt.title(\"Success Rates for Emotionally Charged vs Neutral Campaigns\")\n",
    "plt.ylim(0, 100)\n",
    "plt.show()"
   ]
  },
  {
   "cell_type": "code",
   "execution_count": 14,
   "metadata": {},
   "outputs": [
    {
     "name": "stderr",
     "output_type": "stream",
     "text": [
      "/var/folders/82/w5q677wj6p74y06sysl9y6c40000gn/T/ipykernel_68492/4290999371.py:3: FutureWarning: \n",
      "\n",
      "Passing `palette` without assigning `hue` is deprecated and will be removed in v0.14.0. Assign the `x` variable to `hue` and set `legend=False` for the same effect.\n",
      "\n",
      "  sns.boxplot(x=\"EmotionallyCharged\", y=\"RaisedAmount\", data=campaigns, palette=\"coolwarm\")\n"
     ]
    },
    {
     "data": {
      "image/png": "[encoded data removed]",
      "text/plain": [
       "<Figure size 800x500 with 1 Axes>"
      ]
     },
     "metadata": {},
     "output_type": "display_data"
    }
   ],
   "source": [
    "# Boxplot to compare RaisedAmount for Emotionally Charged vs Neutral campaigns\n",
    "plt.figure(figsize=(8, 5))\n",
    "sns.boxplot(x=\"EmotionallyCharged\", y=\"RaisedAmount\", data=campaigns, palette=\"coolwarm\")\n",
    "plt.yscale(\"log\")  # Log scale to better visualize outliers\n",
    "plt.xlabel(\"Emotionally Charged\")\n",
    "plt.ylabel(\"Raised Amount (Log Scale)\")\n",
    "plt.title(\"Raised Amount for Emotionally Charged vs Neutral Campaigns\")\n",
    "plt.show()"
   ]
  },
  {
   "cell_type": "code",
   "execution_count": 15,
   "metadata": {},
   "outputs": [
    {
     "name": "stderr",
     "output_type": "stream",
     "text": [
      "/var/folders/82/w5q677wj6p74y06sysl9y6c40000gn/T/ipykernel_68492/2830781416.py:3: FutureWarning: \n",
      "\n",
      "Passing `palette` without assigning `hue` is deprecated and will be removed in v0.14.0. Assign the `x` variable to `hue` and set `legend=False` for the same effect.\n",
      "\n",
      "  sns.countplot(x=\"success\", data=campaigns, palette=\"coolwarm\")\n"
     ]
    },
    {
     "data": {
      "image/png": "[encoded data removed]",
      "text/plain": [
       "<Figure size 600x400 with 1 Axes>"
      ]
     },
     "metadata": {},
     "output_type": "display_data"
    }
   ],
   "source": [
    "# Countplot for campaign success distribution\n",
    "plt.figure(figsize=(6, 4))\n",
    "sns.countplot(x=\"success\", data=campaigns, palette=\"coolwarm\")\n",
    "plt.xlabel(\"Success (1=Yes, 0=No)\")\n",
    "plt.ylabel(\"Count\")\n",
    "plt.title(\"Distribution of Successful vs Unsuccessful Campaigns\")\n",
    "plt.show()"
   ]
  },
  {
   "cell_type": "code",
   "execution_count": null,
   "metadata": {},
   "outputs": [
    {
     "name": "stdout",
     "output_type": "stream",
     "text": [
      "\n",
      "Chi-Square Test for Independence\n",
      "Chi2 Statistic: 5.4562, p-value: 0.0195, Degrees of Freedom: 1\n",
      "Expected Frequency Table:\n",
      " [[10854.05278952  3122.94721048]\n",
      " [ 6224.94721048  1791.05278952]]\n"
     ]
    }
   ],
   "source": [
    "import scipy.stats as stats\n",
    "import numpy as np\n",
    "import statsmodels.api as sm\n",
    "import statsmodels.formula.api as smf\n",
    "\n",
    "# **1. Chi-Square Test for Association Between Emotional Charge and Success**\n",
    "# Create a contingency table\n",
    "contingency_table = pd.crosstab(campaigns[\"EmotionallyCharged\"], campaigns[\"success\"])\n",
    "chi2, p, dof, expected = stats.chi2_contingency(contingency_table)\n",
    "\n",
    "# Print Chi-Square Test Results\n",
    "print(\"\\nChi-Square Test for Independence\")\n",
    "print(f\"Chi2 Statistic: {chi2:.4f}, p-value: {p:.4f}, Degrees of Freedom: {dof}\")\n",
    "print(\"Expected Frequency Table:\\n\", expected)\n"
   ]
  },
  {
   "cell_type": "code",
   "execution_count": 22,
   "metadata": {},
   "outputs": [
    {
     "name": "stdout",
     "output_type": "stream",
     "text": [
      "Optimization terminated successfully.\n",
      "         Current function value: 0.521485\n",
      "         Iterations 13\n",
      "\n",
      "Logistic Regression Results:\n",
      "                           Logit Regression Results                           \n",
      "==============================================================================\n",
      "Dep. Variable:                success   No. Observations:                21993\n",
      "Model:                          Logit   Df Residuals:                    21990\n",
      "Method:                           MLE   Df Model:                            2\n",
      "Date:                Mon, 03 Feb 2025   Pseudo R-squ.:                 0.01833\n",
      "Time:                        17:25:22   Log-Likelihood:                -11469.\n",
      "converged:                       True   LL-Null:                       -11683.\n",
      "Covariance Type:            nonrobust   LLR p-value:                 1.020e-93\n",
      "======================================================================================\n",
      "                         coef    std err          z      P>|z|      [0.025      0.975]\n",
      "--------------------------------------------------------------------------------------\n",
      "Intercept             -1.0812      0.023    -47.143      0.000      -1.126      -1.036\n",
      "EmotionallyCharged     0.1205      0.034      3.565      0.000       0.054       0.187\n",
      "GoalAmount          -1.81e-05   1.19e-06    -15.208      0.000   -2.04e-05   -1.58e-05\n",
      "======================================================================================\n"
     ]
    },
    {
     "name": "stderr",
     "output_type": "stream",
     "text": [
      "/Users/rahatibnrafiq/miniforge3/lib/python3.9/site-packages/statsmodels/discrete/discrete_model.py:2385: RuntimeWarning: overflow encountered in exp\n",
      "  return 1/(1+np.exp(-X))\n",
      "/Users/rahatibnrafiq/miniforge3/lib/python3.9/site-packages/statsmodels/discrete/discrete_model.py:2385: RuntimeWarning: overflow encountered in exp\n",
      "  return 1/(1+np.exp(-X))\n"
     ]
    }
   ],
   "source": [
    "# **2. Logistic Regression to Predict Success Based on Emotionally Charged Language**\n",
    "# Convert categorical variables if necessary\n",
    "campaigns[\"EmotionallyCharged\"] = campaigns[\"EmotionallyCharged\"].astype(int)  # Convert True/False to 1/0\n",
    "\n",
    "# Fit logistic regression model\n",
    "logit_model = smf.logit(\"success ~ EmotionallyCharged + GoalAmount\", data=campaigns).fit()\n",
    "\n",
    "# Display logistic regression results\n",
    "print(\"\\nLogistic Regression Results:\")\n",
    "print(logit_model.summary())"
   ]
  },
  {
   "cell_type": "code",
   "execution_count": 23,
   "metadata": {},
   "outputs": [
    {
     "name": "stdout",
     "output_type": "stream",
     "text": [
      "\n",
      "Odds Ratio for Emotionally Charged Campaigns: 1.1281\n"
     ]
    }
   ],
   "source": [
    "# **3. Compute Odds Ratio**\n",
    "odds_ratio = np.exp(logit_model.params[\"EmotionallyCharged\"])\n",
    "print(f\"\\nOdds Ratio for Emotionally Charged Campaigns: {odds_ratio:.4f}\")"
   ]
  },
  {
   "cell_type": "code",
   "execution_count": 24,
   "metadata": {},
   "outputs": [
    {
     "name": "stdout",
     "output_type": "stream",
     "text": [
      "\n",
      "Cohen's d Effect Size: 0.0329\n"
     ]
    }
   ],
   "source": [
    "# **4. Effect Size Calculation**\n",
    "# Compute Cohen's d for effect size estimation\n",
    "def compute_cohens_d(group1, group2):\n",
    "    mean1, mean2 = np.mean(group1), np.mean(group2)\n",
    "    std1, std2 = np.std(group1, ddof=1), np.std(group2, ddof=1)\n",
    "    pooled_std = np.sqrt((std1**2 + std2**2) / 2)\n",
    "    return (mean1 - mean2) / pooled_std\n",
    "\n",
    "cohens_d = compute_cohens_d(\n",
    "    campaigns[campaigns[\"EmotionallyCharged\"] == 1][\"success\"],\n",
    "    campaigns[campaigns[\"EmotionallyCharged\"] == 0][\"success\"],\n",
    ")\n",
    "\n",
    "print(f\"\\nCohen's d Effect Size: {cohens_d:.4f}\")"
   ]
  },
  {
   "cell_type": "code",
   "execution_count": 31,
   "metadata": {},
   "outputs": [
    {
     "name": "stdout",
     "output_type": "stream",
     "text": [
      "Chi2 Statistic : 5.456243831625015\n",
      "Degrees of Freedom: 1\n",
      "Odds Rtio: 1.1280723232609815\n",
      "Cohen's d: 0.03286821528040921\n"
     ]
    }
   ],
   "source": [
    "# # **5. Display Key Statistical Analysis Outputs**\n",
    "# tools.display_dataframe_to_user(name=\"Statistical Analysis Results\", dataframe=pd.DataFrame({\n",
    "    \n",
    "#     \"p-value\": [p],\n",
    "#     \"Degrees of Freedom\": [dof],\n",
    "#     \"Odds Ratio\": [odds_ratio],\n",
    "#     \"Cohen's d\": [cohens_d]\n",
    "# }))\n",
    "print(f\"Chi2 Statistic : {chi2}\" )\n",
    "print(f\"Degrees of Freedom: {dof}\")\n",
    "print(f\"Odds Rtio: {odds_ratio}\")\n",
    "print(f\"Cohen's d: {cohens_d}\")"
   ]
  }
 ],
 "metadata": {
  "kernelspec": {
   "display_name": "base",
   "language": "python",
   "name": "python3"
  },
  "language_info": {
   "codemirror_mode": {
    "name": "ipython",
    "version": 3
   },
   "file_extension": ".py",
   "mimetype": "text/x-python",
   "name": "python",
   "nbconvert_exporter": "python",
   "pygments_lexer": "ipython3",
   "version": "3.9.19"
  }
 },
 "nbformat": 4,
 "nbformat_minor": 2
}
