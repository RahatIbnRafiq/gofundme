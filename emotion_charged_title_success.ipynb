{
 "cells": [
  {
   "cell_type": "code",
   "execution_count": 1,
   "metadata": {},
   "outputs": [],
   "source": [
    "from transformers import pipeline\n",
    "import pandas as pd\n",
    "import matplotlib.pyplot as plt\n",
    "from scipy.stats import chi2_contingency\n",
    "import json"
   ]
  },
  {
   "cell_type": "code",
   "execution_count": 2,
   "metadata": {},
   "outputs": [
    {
     "name": "stderr",
     "output_type": "stream",
     "text": [
      "Device set to use mps:0\n"
     ]
    }
   ],
   "source": [
    "# Load the pre-trained emotion analysis pipeline\n",
    "emotion_pipeline = pipeline(\"text-classification\", model=\"j-hartmann/emotion-english-distilroberta-base\")"
   ]
  },
  {
   "cell_type": "code",
   "execution_count": 21,
   "metadata": {},
   "outputs": [
    {
     "name": "stdout",
     "output_type": "stream",
     "text": [
      "Model Token Limit: 512\n"
     ]
    }
   ],
   "source": [
    "from transformers import AutoTokenizer\n",
    "tokenizer = AutoTokenizer.from_pretrained(\"j-hartmann/emotion-english-distilroberta-base\")\n",
    "print(\"Model Token Limit:\", tokenizer.model_max_length)"
   ]
  },
  {
   "cell_type": "code",
   "execution_count": 3,
   "metadata": {},
   "outputs": [],
   "source": [
    "with open(\"final_campaign_data.txt\", \"r\") as file:\n",
    "    data = json.load(file)"
   ]
  },
  {
   "cell_type": "code",
   "execution_count": 53,
   "metadata": {},
   "outputs": [],
   "source": [
    "# Convert the JSON data to a Pandas DataFrame\n",
    "campaigns = pd.DataFrame(data)"
   ]
  },
  {
   "cell_type": "code",
   "execution_count": 52,
   "metadata": {},
   "outputs": [
    {
     "name": "stdout",
     "output_type": "stream",
     "text": [
      "tensor([    0, 43309,  3869,  2981, 21721,   571, 10564,    16, 13916,    42,\n",
      "        11137,     4,  2497,   183,    82,     9,   476,    25,     5,  1270])\n",
      "tensor([11137,     4,  2497,   183,    82,     9,   476,    25,     5,  1270,\n",
      "          161,   112,  1404,     7,    65,   153,  1932,    38,   524,  5162])\n"
     ]
    }
   ],
   "source": [
    "# for index, row in campaigns.iterrows():\n",
    "#     description = \" \".join(row[\"Description\"].split())\n",
    "#     tokens = tokenizer(description, return_tensors=\"pt\", truncation=False)[\"input_ids\"][0]\n",
    "#     chunks = [tokens[i: i + 20] for i in range(0, len(tokens), 10)]\n",
    "#     print(chunks[0])\n",
    "#     print(chunks[1])\n",
    "#     break"
   ]
  },
  {
   "cell_type": "code",
   "execution_count": 72,
   "metadata": {},
   "outputs": [],
   "source": [
    "\n",
    "# def classify_emotion(description):\n",
    "#     try:\n",
    "#         result = emotion_pipeline(description, emotionally_charged_threshold)\n",
    "#         dominant_emotion = max(result, key=lambda x: x['score'])\n",
    "#         is_emotionally_charged = (\n",
    "#             dominant_emotion['score'] >= emotionally_charged_threshold and dominant_emotion['label'] != \"neutral\"\n",
    "#         )\n",
    "#         return dominant_emotion['label'], dominant_emotion['score'], is_emotionally_charged\n",
    "#     except Exception as e:\n",
    "#         return \"Error\", 0.0, False\n",
    "\n",
    "TOKEN_LIMIT = tokenizer.model_max_length\n",
    "\n",
    "# Function to classify emotions with a sliding window approach for long texts\n",
    "def classify_emotion_sliding_window(description, emotionally_charged_threshold):\n",
    "    try:\n",
    "        description = \" \".join(description.split())\n",
    "        # Tokenize the text to check length\n",
    "        tokens = tokenizer(description, return_tensors=\"pt\", truncation=False)[\"input_ids\"][0]\n",
    "\n",
    "        if len(tokens) <= TOKEN_LIMIT:\n",
    "            # If text fits within the token limit, classify normally\n",
    "            result = emotion_pipeline(description)\n",
    "            dominant_emotion = max(result, key=lambda x: x['score'])\n",
    "            is_emotionally_charged = dominant_emotion['score'] >= emotionally_charged_threshold and dominant_emotion['label'] != \"neutral\"\n",
    "            return dominant_emotion['label'], dominant_emotion['score'], is_emotionally_charged\n",
    "\n",
    "        # If text exceeds the token limit, apply sliding window approach\n",
    "        stride = TOKEN_LIMIT // 2  # Overlapping stride of 50%\n",
    "        chunks = [tokens[i: i + TOKEN_LIMIT] for i in range(0, len(tokens), stride)]\n",
    "\n",
    "        highest_emotion = \"neutral\"\n",
    "        highest_score = 0.0\n",
    "        is_emotionally_charged = False\n",
    "\n",
    "        for chunk in chunks:\n",
    "            decoded_text = tokenizer.decode(chunk, skip_special_tokens=True)\n",
    "            result = emotion_pipeline(decoded_text)\n",
    "            dominant_emotion = max(result, key=lambda x: x['score'])\n",
    "\n",
    "            # Check if this chunk has the highest emotion score so far\n",
    "            if dominant_emotion['score'] > highest_score and dominant_emotion['label'] != \"neutral\":\n",
    "                highest_emotion = dominant_emotion['label']\n",
    "                highest_score = dominant_emotion['score']\n",
    "            # If any chunk has a score higher than the threshold, mark as emotionally charged\n",
    "            if dominant_emotion['score'] >= emotionally_charged_threshold and dominant_emotion['label'] != \"neutral\":\n",
    "                is_emotionally_charged = True\n",
    "\n",
    "        return highest_emotion, highest_score, is_emotionally_charged\n",
    "\n",
    "    except Exception as e:\n",
    "        return \"Error\", 0.0, False\n"
   ]
  },
  {
   "cell_type": "code",
   "execution_count": 73,
   "metadata": {},
   "outputs": [
    {
     "data": {
      "text/plain": [
       "21993"
      ]
     },
     "execution_count": 73,
     "metadata": {},
     "output_type": "execute_result"
    }
   ],
   "source": [
    "len(campaigns)"
   ]
  },
  {
   "cell_type": "code",
   "execution_count": 75,
   "metadata": {},
   "outputs": [
    {
     "name": "stderr",
     "output_type": "stream",
     "text": [
      "  0%|          | 0/21993 [00:00<?, ?it/s]huggingface/tokenizers: The current process just got forked, after parallelism has already been used. Disabling parallelism to avoid deadlocks...\n",
      "To disable this warning, you can either:\n",
      "\t- Avoid using `tokenizers` before the fork if possible\n",
      "\t- Explicitly set the environment variable TOKENIZERS_PARALLELISM=(true | false)\n",
      "100%|██████████| 21993/21993 [1:44:46<00:00,  3.50it/s]  \n"
     ]
    }
   ],
   "source": [
    "import warnings\n",
    "warnings.filterwarnings(\"ignore\")\n",
    "import time\n",
    "from tqdm import tqdm\n",
    "\n",
    "tqdm.pandas()\n",
    "\n",
    "emotionally_charged_threshold = 0.70\n",
    "\n",
    "# Apply the function with progress tracking, passing the threshold as an argument\n",
    "campaigns[\"DominantEmotion\"], campaigns[\"EmotionScore\"], campaigns[\"EmotionallyCharged\"] = zip(\n",
    "    *campaigns[\"Description\"].progress_apply(lambda desc: classify_emotion_sliding_window(desc, emotionally_charged_threshold))\n",
    ")\n",
    "\n",
    "\n",
    "# campaigns[[\"DominantEmotion\", \"EmotionScore\", \"EmotionallyCharged\"]] = campaigns[\"Description\"].apply(\n",
    "#     lambda desc: pd.Series(classify_emotion_sliding_window(desc, emotionally_charged_threshold))\n",
    "# )\n",
    "# start_time = time.time()\n",
    "\n",
    "# # Perform emotion analysis on all campaign title\n",
    "# campaigns1 = campaigns.head(20)\n",
    "# campaigns1[[\"DominantEmotion\", \"EmotionScore\", \"EmotionallyCharged\"]] = campaigns1[\"Description\"].apply(\n",
    "#     lambda desc: pd.Series(classify_emotion_sliding_window(desc, emotionally_charged_threshold))\n",
    "# )\n",
    "# end_time = time.time()\n",
    "# execution_time = end_time - start_time  # Compute elapsed time\n",
    "# print(f\"Execution Time: {execution_time:.6f} seconds\")"
   ]
  },
  {
   "cell_type": "markdown",
   "metadata": {},
   "source": []
  },
  {
   "cell_type": "code",
   "execution_count": 78,
   "metadata": {},
   "outputs": [],
   "source": [
    "campaigns.to_json('campaigns_with_emotionally_charged_data.json') "
   ]
  }
 ],
 "metadata": {
  "kernelspec": {
   "display_name": "base",
   "language": "python",
   "name": "python3"
  },
  "language_info": {
   "codemirror_mode": {
    "name": "ipython",
    "version": 3
   },
   "file_extension": ".py",
   "mimetype": "text/x-python",
   "name": "python",
   "nbconvert_exporter": "python",
   "pygments_lexer": "ipython3",
   "version": "3.9.19"
  }
 },
 "nbformat": 4,
 "nbformat_minor": 2
}
